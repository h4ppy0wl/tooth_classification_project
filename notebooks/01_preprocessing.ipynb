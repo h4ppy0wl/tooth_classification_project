{
 "cells": [
  {
   "cell_type": "markdown",
   "metadata": {},
   "source": [
    "# create master json files from the raw data"
   ]
  },
  {
   "cell_type": "code",
   "execution_count": null,
   "metadata": {},
   "outputs": [],
   "source": [
    "import json\n",
    "import numpy as np\n",
    "import os\n",
    "import sys\n",
    "import time\n",
    "parent_dir = os.path.abspath(os.path.join(os.getcwd(), os.pardir))\n",
    "sys.path.append(parent_dir)\n",
    "import src.data_pipeline as dp"
   ]
  },
  {
   "cell_type": "code",
   "execution_count": null,
   "metadata": {},
   "outputs": [
    {
     "name": "stdout",
     "output_type": "stream",
     "text": [
      "False\n"
     ]
    }
   ],
   "source": [
    "# Example usage:\n",
    "path = 'C:/Users/anedaeij23/Project/tooth_classification_project/data/raw/MOVIPKA-front_right-right-120_PumM5JqRU3.jpg'\n",
    "dark_result = dp.is_darker_than_threshold(path, 0.25)\n",
    "print(dark_result)"
   ]
  },
  {
   "cell_type": "code",
   "execution_count": 81,
   "metadata": {},
   "outputs": [],
   "source": [
    "tooth_diag_annots = json.load(open(os.path.join(\"C:/Users/anedaeij23/Project/tooth_classification_project/data/raw/\", \"complete_toothwise_annotations.json\")))"
   ]
  },
  {
   "cell_type": "code",
   "execution_count": null,
   "metadata": {},
   "outputs": [],
   "source": [
    "new_json = dp.remove_dark_images_from_json(tooth_diag_annots, \"C:/Users/anedaeij23/Project/tooth_classification_project/data/raw/\" )"
   ]
  },
  {
   "cell_type": "code",
   "execution_count": null,
   "metadata": {},
   "outputs": [],
   "source": [
    "{\n",
    "    \"0\": {\n",
    "        \"image_filename\": \"HONILNO-lower-390.jpg\",\n",
    "        \"image_perspective\": \"lower\",\n",
    "        \"image_quality\": \"G\",\n",
    "        \"image_width\": 1911,\n",
    "        \"image_height\": 1427,\n",
    "        \"teeth_data\": {\n",
    "            \"0\": {\n",
    "                \"tooth_image_filename\": \"HONILNO-lower-390_nh1ZWZC_-h.jpg\",\n",
    "                \"height\": 405,\n",
    "                \"width\": 360,\n",
    "                \"bbox\": [\n",
    "                    74,\n",
    "                    116,\n",
    "                    344,\n",
    "                    416\n",
    "                ],\n",
    "                \"crop_box\": [\n",
    "                    6,\n",
    "                    86,\n",
    "                    411,\n",
    "                    446\n",
    "                ],\n",
    "                \"tooth_number\": 47,\n",
    "                \"region_class\": \"T47\",\n",
    "                \"label_id\": \"nh1ZWZC_-h\",\n",
    "                \"missing\": \"P\",\n",
    "                \"tooth_label\": {\n",
    "                    \"all_points_x\": [],\n",
    "                    \"all_points_y\": [],\n",
    "                    \"shape\": \"polygon\"},\n",
    "                \"diagnostic_labels\": {\n",
    "                    \"0\": {\n",
    "                        \"region_class\": \"car\",\n",
    "                        \"rle\": [...]},\n",
    "                    ...}},\n",
    "            ...}},\n",
    "            ...}"
   ]
  },
  {
   "cell_type": "code",
   "execution_count": 97,
   "metadata": {},
   "outputs": [],
   "source": [
    "plaque_annotations = dp.convert_annotations(tooth_diag_annots, target_class='Pla')"
   ]
  },
  {
   "cell_type": "code",
   "execution_count": 99,
   "metadata": {},
   "outputs": [],
   "source": [
    "# Save the new annotations to a file\n",
    "with open(\"C:/Users/anedaeij23/Project/tooth_classification_project/data/intrim/plaque_annotations.json\", \"w\") as f:\n",
    "    json.dump(plaque_annotations, f)"
   ]
  }
 ],
 "metadata": {
  "kernelspec": {
   "display_name": "mrcnn_tf214_p31012",
   "language": "python",
   "name": "python3"
  },
  "language_info": {
   "codemirror_mode": {
    "name": "ipython",
    "version": 3
   },
   "file_extension": ".py",
   "mimetype": "text/x-python",
   "name": "python",
   "nbconvert_exporter": "python",
   "pygments_lexer": "ipython3",
   "version": "3.10.12"
  }
 },
 "nbformat": 4,
 "nbformat_minor": 2
}
